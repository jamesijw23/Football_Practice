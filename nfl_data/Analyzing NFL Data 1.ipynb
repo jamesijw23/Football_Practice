{
 "cells": [
  {
   "cell_type": "markdown",
   "metadata": {},
   "source": [
    "# Direction 1\n",
    "## B) Data Analysis\n",
    "The purpose of this analysis is to determine if certain football statistics predict the outcome of the game. These statistics were hypothesized to be indicators of a good team. The variables were curated within another Jupyter Notebook titled Curating the Dataset 1. The list of variable names are the following:\n",
    "* Average Yard Gained by Passing \n",
    "* Average Yard Gained by Rushing \n",
    "* Total Yards Allowed by Defense Passing\n",
    "* TotalYards Allowed by Defense Rushing\n",
    "* Turnovers by Offense \n",
    "* Turnovers caused by Defense\n",
    "* Scores by Offense \n",
    "* Scores by Denfense\n",
    "\n",
    "Before the analysis, more data manipulation was done to ensure all games had an appropriate outcome. Some outcomes had NA because the games that went into overtime were treated as a tie within the data set. This fact implied that these games were not included within this analysis. This implied that there were 3270 games in the analysis.\n",
    "\n",
    "The machine learning techniques that were implemented were SVM, Tree, and random forest. Each of the analysis included a cross validation so that the error is minimized. The tree method was used to be able to determine what aspects of certain variables impact the likelihood of success, whereas, SVM and random forest were used to validate the finding found within the tree method. The data was partitioned into training and test data sets to determine how well each of the techniques work.\n"
   ]
  },
  {
   "cell_type": "code",
   "execution_count": 3,
   "metadata": {},
   "outputs": [],
   "source": [
    "## Load Data and manipulations to do analysis\n",
    "library(dplyr)\n",
    "library(e1071)\n",
    "library(rpart)\n",
    "library(rfUtilities)\n",
    "library(randomForest)\n",
    "library(gbm)\n",
    "library(ROCR)\n",
    "\n",
    "\n",
    "## Read in Data\n",
    "nfl_data1 <- read.csv(\"nfl_direction1.csv\")\n",
    "## Number of Outcomes is 3582\n",
    "#dim(nfl_data1) \n",
    "\n",
    "\n",
    "## Get rid of NA outcomes\n",
    "nfl_data2 <- nfl_data1 %>% filter(is.na(Outcome)==F)\n",
    "## Number of Outcomes is 3270 that did not have a tie at the end of the game\n",
    "# dim(nfl_data2) \n",
    "\n",
    "\n",
    "## Make Home or Away binary (1:Home,0:Away)\n",
    "nfl_data3 <- nfl_data2 %>% mutate(HomeOrAwayBin = ifelse(HomeORAway ==\"H\",1,0))\n",
    "\n",
    "## Analysis dataset, remove non-important variables\n",
    "nfl_data4 <- nfl_data3 %>% select(-Team,-HomeORAway)\n",
    "\n",
    "\n",
    "## Create Train and Test Data sets\n",
    "nfl_data5 <- modelr::resample_partition(nfl_data4, c(test = 0.2, train = 0.8))\n",
    "train_nfl_data5 <- as.data.frame(nfl_data5$train) \n",
    "test_nfl_data5  <- as.data.frame(nfl_data5$test)\n",
    "\n"
   ]
  },
  {
   "cell_type": "code",
   "execution_count": 2,
   "metadata": {},
   "outputs": [
    {
     "name": "stdout",
     "output_type": "stream",
     "text": [
      "Classification for the training dataset under SVM:"
     ]
    },
    {
     "data": {
      "text/plain": [
       "             true_outcome_train\n",
       "est_train_svm    0    1\n",
       "            0 1311    0\n",
       "            1    0 1306"
      ]
     },
     "metadata": {},
     "output_type": "display_data"
    },
    {
     "name": "stdout",
     "output_type": "stream",
     "text": [
      "Error Rate for the training dataset under SVM"
     ]
    },
    {
     "data": {
      "text/html": [
       "0"
      ],
      "text/latex": [
       "0"
      ],
      "text/markdown": [
       "0"
      ],
      "text/plain": [
       "[1] 0"
      ]
     },
     "metadata": {},
     "output_type": "display_data"
    },
    {
     "name": "stdout",
     "output_type": "stream",
     "text": [
      "\n",
      "Classification for the test dataset under SVM:"
     ]
    },
    {
     "data": {
      "text/plain": [
       "            true_outcome_test\n",
       "est_test_svm   0   1\n",
       "           0 252  72\n",
       "           1  72 257"
      ]
     },
     "metadata": {},
     "output_type": "display_data"
    },
    {
     "name": "stdout",
     "output_type": "stream",
     "text": [
      "Error Rate for the test dataset under SVM"
     ]
    },
    {
     "data": {
      "text/html": [
       "0.2205"
      ],
      "text/latex": [
       "0.2205"
      ],
      "text/markdown": [
       "0.2205"
      ],
      "text/plain": [
       "[1] 0.2205"
      ]
     },
     "metadata": {},
     "output_type": "display_data"
    }
   ],
   "source": [
    "##------------------------------------------------------------------------\n",
    "## Technique 1: Use SVM to determine how the variables predict the outcome\n",
    "##------------------------------------------------------------------------\n",
    "model_svm <- svm(Outcome~.,gamma=1,data=train_nfl_data5,cost=10^4)\n",
    "\n",
    "## Use training dataset to predict outcomes for training and test data set\n",
    "est_train_svm <- ifelse(predict(model_svm,train_nfl_data5 %>% \n",
    "                                select(-Outcome))>0.5,1,0)\n",
    "est_test_svm <- ifelse(predict(model_svm,test_nfl_data5 %>%\n",
    "                               select(-Outcome))>0.5,1,0)\n",
    " \n",
    "\n",
    "\n",
    "\n",
    "\n",
    "## Show classification and error using SVM model\n",
    "cat(\"Classification for the training dataset under SVM:\")\n",
    "true_outcome_train <- train_nfl_data5$Outcome\n",
    "table(est_train_svm, true_outcome_train)\n",
    "cat(\"Error Rate for the training dataset under SVM\")\n",
    "round(mean(est_train_svm!=true_outcome_train),4)\n",
    "cat(\"\\n\")\n",
    "cat(\"Classification for the test dataset under SVM:\")\n",
    "true_outcome_test <- test_nfl_data5$Outcome\n",
    "table(est_test_svm, true_outcome_test)\n",
    "cat(\"Error Rate for the test dataset under SVM\")\n",
    "round(mean(est_test_svm!=true_outcome_test),4)\n",
    "\n",
    "## Show the misclassifications\n",
    "misclass_test_svm  <- ifelse(est_test_svm!=true_outcome_test,1,0)"
   ]
  },
  {
   "cell_type": "markdown",
   "metadata": {},
   "source": [
    "## Discuss Results of SVM\n",
    "Results show that the SVM is able to predict the outcome of a game better than flipping a coin within both data sets due the error rates being less 0.5. A cross-validation (not shown) was done that showed that 10^4 lowered the error the most. However, games are better predicted within the training dataset than the test data set which is a result of the data being used within the model. The problem of over-fitting is known to occur when using SVMs. Though this analysis is only predicting the outcomes of each game, the games that are misclassified within the test data set are stored to determine if these games are misclassified by the other 2 models. This is done so that anomalies can be seen that occur in the dataset which allows a team to win or lose given the models predicts otherwise.\n",
    "\n"
   ]
  },
  {
   "cell_type": "code",
   "execution_count": 40,
   "metadata": {},
   "outputs": [
    {
     "name": "stderr",
     "output_type": "stream",
     "text": [
      "Warning message in randomForest.default(m, y, ...):\n",
      "\"The response has five or fewer unique values.  Are you sure you want to do regression?\""
     ]
    },
    {
     "name": "stdout",
     "output_type": "stream",
     "text": [
      "Classification for the training dataset under Random Forest:"
     ]
    },
    {
     "data": {
      "text/plain": [
       "            true_outcome_train\n",
       "est_train_RF    0    1\n",
       "           0 1315    4\n",
       "           1    0 1298"
      ]
     },
     "metadata": {},
     "output_type": "display_data"
    },
    {
     "name": "stdout",
     "output_type": "stream",
     "text": [
      "Error Rate for the training dataset under Random Forest:"
     ]
    },
    {
     "data": {
      "text/html": [
       "0.0015"
      ],
      "text/latex": [
       "0.0015"
      ],
      "text/markdown": [
       "0.0015"
      ],
      "text/plain": [
       "[1] 0.0015"
      ]
     },
     "metadata": {},
     "output_type": "display_data"
    },
    {
     "name": "stdout",
     "output_type": "stream",
     "text": [
      "\n",
      "Classification for the test dataset under Random Forest:"
     ]
    },
    {
     "data": {
      "text/plain": [
       "           true_outcome_test\n",
       "est_test_RF   0   1\n",
       "          0 256  65\n",
       "          1  64 268"
      ]
     },
     "metadata": {},
     "output_type": "display_data"
    },
    {
     "name": "stdout",
     "output_type": "stream",
     "text": [
      "Error Rate for the test dataset under Random Forest:"
     ]
    },
    {
     "data": {
      "text/html": [
       "0.1975"
      ],
      "text/latex": [
       "0.1975"
      ],
      "text/markdown": [
       "0.1975"
      ],
      "text/plain": [
       "[1] 0.1975"
      ]
     },
     "metadata": {},
     "output_type": "display_data"
    }
   ],
   "source": [
    "##------------------------------------------------------------------------\n",
    "## Technique 2: Use Random Forest to determine how the variables \n",
    "## predict the outcome\n",
    "##------------------------------------------------------------------------\n",
    "model_RF <- randomForest(Outcome ~.,data=train_nfl_data5)\n",
    "\n",
    "est_train_RF <- ifelse(predict(model_RF,train_nfl_data5 %>% \n",
    "                               select(-Outcome))>0.5,1,0)\n",
    "est_test_RF  <- ifelse(predict(model_RF,test_nfl_data5 %>% \n",
    "                               select(-Outcome))>0.5,1,0)\n",
    "## Show classification and error using tree model\n",
    "cat(\"Classification for the training dataset under Random Forest:\")\n",
    "table(est_train_RF, true_outcome_train)\n",
    "cat(\"Error Rate for the training dataset under Random Forest:\")\n",
    "round(mean(est_train_RF!=true_outcome_train),4)\n",
    "cat(\"\\n\")\n",
    "cat(\"Classification for the test dataset under Random Forest:\")\n",
    "table(est_test_RF, true_outcome_test)\n",
    "cat(\"Error Rate for the test dataset under Random Forest:\")\n",
    "round(mean(est_test_RF!=true_outcome_test),4)\n",
    "\n",
    "## Show the misclassifications\n",
    "misclass_test_RF  <- ifelse(est_test_RF!=true_outcome_test,1,0)"
   ]
  },
  {
   "cell_type": "markdown",
   "metadata": {
    "collapsed": true
   },
   "source": [
    "## Discuss Results of Random Forest\n",
    "Though only 6 games were misclassified within the training data set, it is imperative to note that over-fitting occurred with the implementation of the random forest technique. However within the test data set, a lower error rate was found using the random forest technique compared to the SVM technique. "
   ]
  },
  {
   "cell_type": "code",
   "execution_count": 41,
   "metadata": {},
   "outputs": [
    {
     "name": "stdout",
     "output_type": "stream",
     "text": [
      "Classification for the training dataset under Tree:"
     ]
    },
    {
     "data": {
      "text/plain": [
       "              true_outcome_train\n",
       "est_train_tree    0    1\n",
       "             0  959  174\n",
       "             1  356 1128"
      ]
     },
     "metadata": {},
     "output_type": "display_data"
    },
    {
     "name": "stdout",
     "output_type": "stream",
     "text": [
      "Error Rate for the training dataset under Tree:"
     ]
    },
    {
     "data": {
      "text/html": [
       "0.2025"
      ],
      "text/latex": [
       "0.2025"
      ],
      "text/markdown": [
       "0.2025"
      ],
      "text/plain": [
       "[1] 0.2025"
      ]
     },
     "metadata": {},
     "output_type": "display_data"
    },
    {
     "name": "stdout",
     "output_type": "stream",
     "text": [
      "\n",
      "Classification for the test dataset under Tree:"
     ]
    },
    {
     "data": {
      "text/plain": [
       "             true_outcome_test\n",
       "est_test_tree   0   1\n",
       "            0 230  57\n",
       "            1  90 276"
      ]
     },
     "metadata": {},
     "output_type": "display_data"
    },
    {
     "name": "stdout",
     "output_type": "stream",
     "text": [
      "Error Rate for the test dataset under Tree:"
     ]
    },
    {
     "data": {
      "text/html": [
       "0.2251"
      ],
      "text/latex": [
       "0.2251"
      ],
      "text/markdown": [
       "0.2251"
      ],
      "text/plain": [
       "[1] 0.2251"
      ]
     },
     "metadata": {},
     "output_type": "display_data"
    },
    {
     "data": {
      "image/png": "[encoded data removed]",
      "text/plain": [
       "Plot with title \"Classification Tree for NFL Statistics\""
      ]
     },
     "metadata": {},
     "output_type": "display_data"
    }
   ],
   "source": [
    "##------------------------------------------------------------------------\n",
    "## Technique 3: Use Tree to determine how the variables predict the outcome\n",
    "##------------------------------------------------------------------------\n",
    "model_tree <- rpart(Outcome ~., method=\"class\",data=train_nfl_data5,\n",
    "    control=rpart.control(minsplit=100, cp=0.009))\n",
    "\n",
    "est_train_tree <- predict(model_tree,train_nfl_data5 %>% \n",
    "                          select(-Outcome),type=\"class\")\n",
    "est_test_tree  <- predict(model_tree,test_nfl_data5 %>% \n",
    "                          select(-Outcome),type=\"class\")\n",
    "## Show classification and error using tree model\n",
    "cat(\"Classification for the training dataset under Tree:\")\n",
    "table(est_train_tree, true_outcome_train)\n",
    "cat(\"Error Rate for the training dataset under Tree:\")\n",
    "round(mean(est_train_tree!=true_outcome_train),4)\n",
    "cat(\"\\n\")\n",
    "cat(\"Classification for the test dataset under Tree:\")\n",
    "table(est_test_tree, true_outcome_test)\n",
    "cat(\"Error Rate for the test dataset under Tree:\")\n",
    "round(mean(est_test_tree!=true_outcome_test),4)\n",
    "\n",
    "## Show the misclassifications\n",
    "misclass_test_tree  <- ifelse(est_test_tree!=true_outcome_test,1,0)\n",
    "\n",
    "\n",
    "## Tree of Model\n",
    "plot(model_tree, uniform=TRUE,\n",
    "   main=\"Classification Tree for NFL Statistics\")\n",
    "text(model_tree, use.n=TRUE, all=TRUE, cex=.5)"
   ]
  },
  {
   "cell_type": "markdown",
   "metadata": {},
   "source": [
    "## Discuss of Decision Tree\n",
    "When implementing the tree method, it is important to note that overfitting was not a problem compared to the SVM and random forest methods, however, the error rate for the training data set was comparable to the test data set. The tree method is critical for this study because it allows one to analyze thresholds for certain outcomes to occur. For example, if you score 21.5 points, a teams has a greater odds of winning. The total defensive rush yards and score are the only variables used within this tree based on the critical parameter set to 0.009. Though prunning was not implemented in this study, there are more variables that can be used to determine the outcome of a game based on these statistics. "
   ]
  },
  {
   "cell_type": "code",
   "execution_count": 19,
   "metadata": {},
   "outputs": [
    {
     "data": {
      "text/plain": [
       "   est_test_boost\n",
       "      0   1\n",
       "  0 250  65\n",
       "  1  46 292"
      ]
     },
     "metadata": {},
     "output_type": "display_data"
    },
    {
     "data": {
      "text/plain": [
       "   est_train_boost\n",
       "       0    1\n",
       "  0 1106  214\n",
       "  1  195 1102"
      ]
     },
     "metadata": {},
     "output_type": "display_data"
    }
   ],
   "source": [
    "df = rbind(train_nfl_data5, test_nfl_data5)\n",
    "model_boost <- gbm(Outcome~.,data=train_nfl_data5,n.trees=100,distribution=\"gaussian\",shrinkage=0.8)\n",
    "est_train_boost <- ifelse(predict(model_boost,newdata=train_nfl_data5 %>% \n",
    "                               select(-Outcome),type='response',n.trees=100)>0.5,1,0)\n",
    "est_test_boost <- ifelse(predict(model_boost,newdata=test_nfl_data5 %>% \n",
    "                               select(-Outcome),type='response',n.trees=100)>0.5,1,0)\n",
    "\n",
    "\n",
    "\n",
    "table(test_nfl_data5$Outcome, est_test_boost)\n",
    "table(train_nfl_data5$Outcome, est_train_boost)"
   ]
  },
  {
   "cell_type": "markdown",
   "metadata": {},
   "source": [
    "# Discussion of XGBoost"
   ]
  },
  {
   "cell_type": "code",
   "execution_count": 42,
   "metadata": {},
   "outputs": [
    {
     "data": {
      "image/png": "[encoded data removed]",
      "text/plain": [
       "Plot with title \"Outcome & Misclassification\""
      ]
     },
     "metadata": {},
     "output_type": "display_data"
    }
   ],
   "source": [
    "## Misclassified by all three models\n",
    "misclass_test_all <- ifelse((misclass_test_RF*\n",
    "                             misclass_test_tree*\n",
    "                             misclass_test_svm) == 1,1,0)\n",
    "options(repr.plot.width=7, repr.plot.height=5)\n",
    "par(mfrow=c(1,2))\n",
    "plot(test_nfl_data5$Score,test_nfl_data5$defTotalRushYards,\n",
    "     col=misclass_test_all+3,\n",
    "    xlab=\"Score\",xlim=c(0,60),\n",
    "    ylab=\"Defensive Rush Yards\",ylim=c(0,501),\n",
    "    main=\"Tree Method & Misclassification\")\n",
    "legend(40,500,c(\"Correct\",\"Incorrect\"),col=c(3,4),cex=0.6,pch=c(1,1))\n",
    "plot(test_nfl_data5$Score,test_nfl_data5$Outcome,\n",
    "     col=misclass_test_all+3,\n",
    "     xlab=\"Score\",xlim=c(0,60),\n",
    "     ylab=\"Outcome\",ylim=c(0,1.21),\n",
    "     main=\"Outcome & Misclassification\")\n",
    "legend(40,1.2,c(\"Correct\",\"Incorrect\"),col=c(3,4),cex=0.6,pch=c(1,1))\n"
   ]
  },
  {
   "cell_type": "markdown",
   "metadata": {},
   "source": [
    "## Conclusion\n",
    "In conclusion, the statistics that were chosen were able to determine the outcome of a game using the SVM, random forest and tree techniques. Though the SVM and random forest techniques  had a problem of over-fitting, all three models were comparable in predicting the test data set outcomes. The tree method showed that the score and defensive rush yard total were indicative in terms of the outcome of a game. However, there were not patterns shown using these two variables with respect to the misclassified games (above right figure). However, a pattern is shown with the misclassified games when comparing score and outcome (above left figure). The misclassfied games occured when the score was large and the team lost as well as when the score was small and the teams won. These anomalies occurr only when the games are close in score in which the statistics of the game cannot predict the outcome. \n",
    "\n",
    "Further analysis of this study would be to cross validate these methods by either varying the cost function within the SVM model or pruning the tree within the tree method. This would allow for a better model within each technique to improve the prediction of the outcome of a game. It is important to note that the curation of the data set only used 8 statistics for each team. Every game has more statistics that can be used to predict the outcome of a game. A deeper study could analyze how various statistics relate to one another to predict the outcome of a game."
   ]
  }
 ],
 "metadata": {
  "kernelspec": {
   "display_name": "R",
   "language": "R",
   "name": "ir"
  },
  "language_info": {
   "codemirror_mode": "r",
   "file_extension": ".r",
   "mimetype": "text/x-r-source",
   "name": "R",
   "pygments_lexer": "r",
   "version": "3.4.3"
  }
 },
 "nbformat": 4,
 "nbformat_minor": 2
}
